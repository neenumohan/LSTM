{
  "nbformat": 4,
  "nbformat_minor": 0,
  "metadata": {
    "colab": {
      "provenance": [],
      "gpuType": "T4",
      "include_colab_link": true
    },
    "kernelspec": {
      "name": "python3",
      "display_name": "Python 3"
    },
    "language_info": {
      "name": "python"
    },
    "accelerator": "GPU"
  },
  "cells": [
    {
      "cell_type": "markdown",
      "metadata": {
        "id": "view-in-github",
        "colab_type": "text"
      },
      "source": [
        "<a href=\"https://colab.research.google.com/github/neenumohan/LSTM/blob/main/LSTM_2_V4.ipynb\" target=\"_parent\"><img src=\"https://colab.research.google.com/assets/colab-badge.svg\" alt=\"Open In Colab\"/></a>"
      ]
    },
    {
      "cell_type": "code",
      "execution_count": null,
      "metadata": {
        "id": "Qosm9P84OuWB"
      },
      "outputs": [],
      "source": [
        "import numpy as np\n",
        "import tensorflow as tf\n",
        "import nltk\n",
        "from nltk.tokenize import sent_tokenize, word_tokenize\n",
        "#Step-1: Define and Process the Corpus\n",
        "nltk.download('punkt')\n",
        "corpus = 'jana gana mana adhi nayaka jaya he'\n",
        "chars = list(corpus) #['j', 'a', 'n', 'a', ' ', 'g', 'a', 'n', 'a',..]\n",
        "charCode = {char: i for i, char in enumerate(chars)} #{'j': 27, 'a': 30, 'n': 20, ' ': 31,'g': 5,...}\n",
        "# Step-2: Produce training data from corpus, we had considered the dataset of length 4\n",
        "x1 = []; y1 = []\n",
        "for i in range(0, len(corpus) - 4):\n",
        "    a = corpus[i:i + 4]\n",
        "    b = corpus[i + 4]\n",
        "    x1.append([charCode[i] for i in a])\n",
        "    y1.append(charCode[b])\n",
        "x = np.array(x1);y = np.array(y1) # convert to np arrays\n",
        "#Step-3: Define the training model\n",
        "#<TO DO to convert to usual style>\n",
        "model = tf.keras.Sequential([\n",
        "    tf.keras.layers.Embedding(len(chars), 256, input_length=4),\n",
        "    tf.keras.layers.LSTM(256),\n",
        "    tf.keras.layers.Dense(len(chars), activation='softmax')])\n",
        "model.compile(loss='sparse_categorical_crossentropy', optimizer='adam')\n",
        "model.fit(x, y, batch_size=128, epochs=500)"
      ]
    },
    {
      "cell_type": "code",
      "source": [
        "model.save(\"my_model.h5\")"
      ],
      "metadata": {
        "id": "If8EEpj4mSgp"
      },
      "execution_count": null,
      "outputs": []
    },
    {
      "cell_type": "code",
      "source": [
        "charCode"
      ],
      "metadata": {
        "id": "ROvMMy5-B8rb"
      },
      "execution_count": null,
      "outputs": []
    },
    {
      "cell_type": "code",
      "source": [
        "#Step4: Predict\n",
        "seed=' gan'\n",
        "x = np.array([charCode[char] for char in seed[-4:]])\n",
        "print(x)\n",
        "x = np.reshape(x, (1, 4))\n",
        "print(x)\n",
        "y=model.predict(x) #[0,0,0,0,....,1,.......] total 32 elements\n",
        "out= np.argmax([i for i in y])\n",
        "print(out)\n",
        "print(\"character:\",list(charCode.keys())[list(charCode.values()).index(out)])"
      ],
      "metadata": {
        "id": "AgZBuSTZ2aOQ",
        "colab": {
          "base_uri": "https://localhost:8080/"
        },
        "outputId": "15b67fba-6747-4288-933f-0882f2fabfe2"
      },
      "execution_count": null,
      "outputs": [
        {
          "output_type": "stream",
          "name": "stdout",
          "text": [
            "[31  5 30 20]\n",
            "[[31  5 30 20]]\n",
            "1/1 [==============================] - 0s 66ms/step\n",
            "30\n",
            "character: a\n"
          ]
        }
      ]
    },
    {
      "cell_type": "code",
      "source": [
        "print(\"character:\",list(charCode.keys())[list(charCode.values()).index(np.argmax([i for i in model.predict(x)]))])"
      ],
      "metadata": {
        "colab": {
          "base_uri": "https://localhost:8080/"
        },
        "id": "bkJjg95wRfW5",
        "outputId": "7d0723cc-6315-487c-d914-f62913730082"
      },
      "execution_count": null,
      "outputs": [
        {
          "output_type": "stream",
          "name": "stdout",
          "text": [
            "1/1 [==============================] - 0s 34ms/step\n",
            "character:  \n"
          ]
        }
      ]
    },
    {
      "cell_type": "code",
      "source": [
        "def convert_to_text(seed, length, temperature=1.0):\n",
        "    text = seed\n",
        "    while len(text) < length:\n",
        "        x = np.array([charCode[char] for char in seed[-4:]])\n",
        "        x = np.reshape(x, (1, 4))\n",
        "        pred = model.predict(x)\n",
        "        pred = np.log(pred) / temperature\n",
        "        pred = np.exp(pred) / np.sum(np.exp(pred))\n",
        "        index = np.random.choice(range(len(chars)), p=pred[0])\n",
        "        result = int_to_char[index]\n",
        "        text += result\n",
        "        seed = seed[1:] + result\n",
        "    return text"
      ],
      "metadata": {
        "id": "AKla91Nb1_Ad"
      },
      "execution_count": null,
      "outputs": []
    },
    {
      "cell_type": "code",
      "source": [
        "int_to_char = {i: char for i, char in enumerate(chars)} #{0: 'J', 1: 'a', 2: 'n', 3: 'a', 4: ' ', 5: 'G', 6: 'a', 7: 'n', 8: 'a', 9: ' ', 10: 'M', 11: 'a', 12: 'n', 13: 'a', 14: ' ', 15: 'A', 16: 'd', 17: 'i', 18: 'n', 19: 'a', 20: 'y', 21: 'a', 22: 'k', 23: 'a', 24: ' ', 25: 'j', 26: 'a', 27: 'y', 28: 'a', 29: 'h', 30: 'e', 31: 'e'}\n",
        "seed = \"Jana \"\n",
        "output= convert_to_text(seed, 20, temperature=0.5)"
      ],
      "metadata": {
        "id": "WX19A1ry0L8D"
      },
      "execution_count": null,
      "outputs": []
    },
    {
      "cell_type": "code",
      "source": [
        "print(output)"
      ],
      "metadata": {
        "colab": {
          "base_uri": "https://localhost:8080/"
        },
        "id": "fcHLMcbc1slw",
        "outputId": "64bdc9b6-568f-4187-fc9f-9d34bdd8e324"
      },
      "execution_count": null,
      "outputs": [
        {
          "output_type": "stream",
          "name": "stdout",
          "text": [
            "Jana Adinayaka Jayah\n"
          ]
        }
      ]
    },
    {
      "cell_type": "code",
      "source": [
        "# To run without function Don't know y the answer is like this\n",
        "int_to_char = {i: char for i, char in enumerate(chars)}\n",
        "prediction=model.predict(x)\n",
        "prediction = np.log(prediction) / 0.5\n",
        "prediction = np.exp(prediction) / np.sum(np.exp(prediction))\n",
        "index = np.random.choice(range(len(chars)), p=prediction[0])\n",
        "result = int_to_char[index]\n",
        "seed = seed[1:] + result\n",
        "print(seed)"
      ],
      "metadata": {
        "colab": {
          "base_uri": "https://localhost:8080/"
        },
        "id": "gDfq-FLT6XKf",
        "outputId": "4fe3d6b3-59b6-442d-dfd2-c50a499c8be2"
      },
      "execution_count": null,
      "outputs": [
        {
          "output_type": "stream",
          "name": "stdout",
          "text": [
            "1/1 [==============================] - 0s 18ms/step\n",
            "na  \n"
          ]
        }
      ]
    }
  ]
}