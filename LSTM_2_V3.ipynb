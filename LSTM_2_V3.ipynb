{
  "cells": [
    {
      "cell_type": "markdown",
      "metadata": {
        "id": "view-in-github",
        "colab_type": "text"
      },
      "source": [
        "<a href=\"https://colab.research.google.com/github/neenumohan/LSTM/blob/main/LSTM_2_V3.ipynb\" target=\"_parent\"><img src=\"https://colab.research.google.com/assets/colab-badge.svg\" alt=\"Open In Colab\"/></a>"
      ]
    },
    {
      "cell_type": "code",
      "execution_count": null,
      "metadata": {
        "colab": {
          "background_save": true,
          "base_uri": "https://localhost:8080/"
        },
        "id": "Qosm9P84OuWB",
        "outputId": "fa2b5c54-bfc8-4885-c4fe-94f6a868fa62"
      },
      "outputs": [
        {
          "name": "stderr",
          "output_type": "stream",
          "text": [
            "[nltk_data] Downloading package punkt to /root/nltk_data...\n",
            "[nltk_data]   Package punkt is already up-to-date!\n"
          ]
        },
        {
          "name": "stdout",
          "output_type": "stream",
          "text": [
            "Epoch 1/20\n",
            "6071/6071 [==============================] - 833s 135ms/step - loss: 2.5297\n",
            "Epoch 2/20\n",
            "6071/6071 [==============================] - 818s 135ms/step - loss: 1.6703\n",
            "Epoch 3/20\n",
            "6071/6071 [==============================] - 817s 135ms/step - loss: 1.5439\n",
            "Epoch 4/20\n",
            "6071/6071 [==============================] - 821s 135ms/step - loss: 1.4916\n",
            "Epoch 5/20\n",
            "6071/6071 [==============================] - 820s 135ms/step - loss: 1.4605\n",
            "Epoch 6/20\n",
            "6071/6071 [==============================] - 817s 135ms/step - loss: 1.4394\n",
            "Epoch 7/20\n",
            "6071/6071 [==============================] - 817s 135ms/step - loss: 1.4240\n",
            "Epoch 8/20\n",
            "6071/6071 [==============================] - 817s 135ms/step - loss: 1.4117\n",
            "Epoch 9/20\n",
            "6071/6071 [==============================] - 817s 135ms/step - loss: 1.4020\n",
            "Epoch 10/20\n",
            "6071/6071 [==============================] - 817s 135ms/step - loss: 1.3937\n",
            "Epoch 11/20\n",
            "5949/6071 [============================>.] - ETA: 16s - loss: 1.3862"
          ]
        }
      ],
      "source": [
        "import numpy as np\n",
        "import tensorflow as tf\n",
        "import nltk\n",
        "from nltk.tokenize import sent_tokenize, word_tokenize\n",
        "#Step-1: Define and Process the Corpus\n",
        "nltk.download('punkt')\n",
        "#corpus = 'Jana Gana Mana Adinayaka Jayahee'\n",
        "corpus = open('/content/Two-Tails.txt').read()\n",
        "chars = list(corpus) #['J', 'a', 'n', 'a', ' ', 'G', 'a', 'n', 'a',..]\n",
        "charCode = {char: i for i, char in enumerate(chars)} #{'J': 0, 'a': 28, 'n': 18, ' ': 24,..}\n",
        "# Step-2: Produce training data from corpus, we had considered the dataset of length 4\n",
        "x1 = []; y1 = []\n",
        "for i in range(0, len(corpus) - 4):\n",
        "    a = corpus[i:i + 4]\n",
        "    b = corpus[i + 4]\n",
        "    x1.append([charCode[i] for i in a])\n",
        "    y1.append(charCode[b])\n",
        "x = np.array(x1);y = np.array(y1) # convert to np arrays\n",
        "#Step-3: Define the training model\n",
        "#<TO DO to convert to usual style>\n",
        "model = tf.keras.Sequential([\n",
        "    tf.keras.layers.Embedding(len(chars), 256, input_length=4),\n",
        "    tf.keras.layers.LSTM(256),\n",
        "    tf.keras.layers.Dense(len(chars), activation='softmax')])\n",
        "model.compile(loss='sparse_categorical_crossentropy', optimizer='adam')\n",
        "model.fit(x, y, batch_size=128, epochs=20)"
      ]
    },
    {
      "cell_type": "code",
      "execution_count": null,
      "metadata": {
        "colab": {
          "base_uri": "https://localhost:8080/"
        },
        "id": "N3w1M0JoPfIY",
        "outputId": "6334e85e-ce84-4d3b-b180-d998568099be"
      },
      "outputs": [
        {
          "name": "stdout",
          "output_type": "stream",
          "text": [
            "1/1 [==============================] - 0s 30ms/step\n",
            "1/1 [==============================] - 0s 29ms/step\n"
          ]
        },
        {
          "data": {
            "text/plain": [
              "777036"
            ]
          },
          "execution_count": 6,
          "metadata": {},
          "output_type": "execute_result"
        }
      ],
      "source": [
        "#Step4: Predict\n",
        "seed='Dick'\n",
        "x = np.array([charCode[char] for char in seed[-4:]])\n",
        "x = np.reshape(x, (1, 4))\n",
        "model.predict(x) #[0,0,0,0,....,1,.......] total 32 elements\n",
        "np.argmax([i for i in model.predict(x)])"
      ]
    }
  ],
  "metadata": {
    "accelerator": "GPU",
    "colab": {
      "provenance": [],
      "include_colab_link": true
    },
    "kernelspec": {
      "display_name": "Python 3",
      "name": "python3"
    },
    "language_info": {
      "name": "python"
    }
  },
  "nbformat": 4,
  "nbformat_minor": 0
}