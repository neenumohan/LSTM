{
  "cells": [
    {
      "cell_type": "markdown",
      "metadata": {
        "id": "view-in-github",
        "colab_type": "text"
      },
      "source": [
        "<a href=\"https://colab.research.google.com/github/neenumohan/LSTM/blob/main/LSTM3.ipynb\" target=\"_parent\"><img src=\"https://colab.research.google.com/assets/colab-badge.svg\" alt=\"Open In Colab\"/></a>"
      ]
    },
    {
      "cell_type": "code",
      "execution_count": null,
      "metadata": {
        "colab": {
          "base_uri": "https://localhost:8080/"
        },
        "id": "vm5hCBUhnmbJ",
        "outputId": "93f906d3-10c3-4d7c-97bf-67e27553b08e"
      },
      "outputs": [
        {
          "output_type": "stream",
          "name": "stdout",
          "text": [
            "Downloading data from https://storage.googleapis.com/download.tensorflow.org/data/shakespeare.txt\n",
            "1115394/1115394 [==============================] - 0s 0us/step\n",
            "1115394\n",
            "First Citizen:\n",
            "Before we proceed any further, hear me speak.\n",
            "\n",
            "All:\n",
            "Speak, speak.\n",
            "\n",
            "First Citizen:\n",
            "You are all resolved rather to die than to famish?\n",
            "\n",
            "All:\n",
            "Resolved. resolved.\n",
            "\n",
            "First Citizen:\n",
            "First, you\n"
          ]
        }
      ],
      "source": [
        "import tensorflow as tf\n",
        "import numpy as np\n",
        "#Download the dataset\n",
        "path = tf.keras.utils.get_file('shakespeare.txt', 'https://storage.googleapis.com/download.tensorflow.org/data/shakespeare.txt')\n",
        "#Explore the data\n",
        "text = open(path, \"r\").read()\n",
        "print(len(text))\n",
        "print(text[:200])"
      ]
    },
    {
      "cell_type": "code",
      "execution_count": null,
      "metadata": {
        "colab": {
          "base_uri": "https://localhost:8080/"
        },
        "id": "ZyNqkZpVntTQ",
        "outputId": "18e1c998-d7b5-4aac-e2c4-08907cece0bd"
      },
      "outputs": [
        {
          "output_type": "stream",
          "name": "stderr",
          "text": [
            "<ipython-input-2-15e89c42c865>:12: DeprecationWarning: `np.int` is a deprecated alias for the builtin `int`. To silence this warning, use `int` by itself. Doing this will not modify any behavior and is safe. When replacing `np.int`, you may wish to use e.g. `np.int64` or `np.int32` to specify the precision. If you wish to review your current use, check the release note link for additional information.\n",
            "Deprecated in NumPy 1.20; for more details and guidance: https://numpy.org/devdocs/release/1.20.0-notes.html#deprecations\n",
            "  x = np.zeros((len(sentences), maxlen, len(chars)), dtype=np.int)\n",
            "<ipython-input-2-15e89c42c865>:13: DeprecationWarning: `np.int` is a deprecated alias for the builtin `int`. To silence this warning, use `int` by itself. Doing this will not modify any behavior and is safe. When replacing `np.int`, you may wish to use e.g. `np.int64` or `np.int32` to specify the precision. If you wish to review your current use, check the release note link for additional information.\n",
            "Deprecated in NumPy 1.20; for more details and guidance: https://numpy.org/devdocs/release/1.20.0-notes.html#deprecations\n",
            "  y = np.zeros((len(sentences), len(chars)), dtype=np.int)\n"
          ]
        }
      ],
      "source": [
        "# one-hot encode\n",
        "maxlen = 60 #extract sequences of length 60\n",
        "step = 3\n",
        "sentences = []\t#holds extracted sequences\n",
        "next_chars = [] #holds the targets\n",
        "for i in range(0, len(text)-maxlen, step):\n",
        "\tsentences.append(text[i:i+maxlen])\n",
        "\tnext_chars.append(text[i+maxlen])\n",
        "#VECTORIZATION\n",
        "chars = sorted(set(text))\n",
        "char_indices = dict((char, chars.index(char)) for char in chars)\n",
        "x = np.zeros((len(sentences), maxlen, len(chars)), dtype=np.int)\n",
        "y = np.zeros((len(sentences), len(chars)), dtype=np.int)\n",
        "for i, sentence in enumerate(sentences):\n",
        "\tfor t, char in enumerate(sentence):\n",
        "\t\tx[i, t, char_indices[char]] = 1\n",
        "\ty[i, char_indices[next_chars[i]]] = 1"
      ]
    },
    {
      "cell_type": "code",
      "execution_count": null,
      "metadata": {
        "id": "sErLXwkioIsO"
      },
      "outputs": [],
      "source": [
        "from tensorflow.keras import layers\n",
        "model = tf.keras.models.Sequential()\n",
        "model.add(layers.LSTM(128, input_shape=(maxlen, len(chars))))\n",
        "model.add(layers.Dense(len(chars), activation=\"softmax\"))"
      ]
    },
    {
      "cell_type": "code",
      "execution_count": null,
      "metadata": {
        "id": "GZTYWB5koJiH"
      },
      "outputs": [],
      "source": [
        "model.compile(loss=\"categorical_crossentropy\", optimizer=\"adam\",run_eagerly=True)"
      ]
    },
    {
      "cell_type": "code",
      "execution_count": null,
      "metadata": {
        "id": "cQT0MeDQoO9l"
      },
      "outputs": [],
      "source": [
        "def sample(preds, temperature=1.0):\n",
        "\tpreds = np.asarray(preds).astype('float64')\n",
        "  #print(\"pred1:\",preds)\n",
        "\tpreds = np.log(preds) / temperature\n",
        "\t#print(\"pred2:\",preds)\n",
        "\texp_preds = np.exp(preds)\n",
        "\tpreds = exp_preds / np.sum(exp_preds)\n",
        "\tprobas = np.random.multinomial(1, preds, 1)\n",
        "  #print(\"probas:\",probas)\n",
        "\treturn np.argmax(probas)"
      ]
    },
    {
      "cell_type": "code",
      "execution_count": null,
      "metadata": {
        "id": "23bi8zAzoY2d"
      },
      "outputs": [],
      "source": [
        "# @title Default title text\n",
        "#The following loop repeatedly trains and generates the text. #generates 400 length string\n",
        "import random\n",
        "for epoch in range(1, 60):\n",
        "  model.fit(x, y, batch_size=128)\n",
        "  start_index = random.randint(0, len(text) - maxlen - 1)\n",
        "  print(start_index)\n",
        "  generated_text = x[start_index: start_index + maxlen]\n",
        "  for i in range(10):\n",
        "    x_pred = np.zeros((1, maxlen, len(chars)))\n",
        "    for t, char in enumerate(sentence):\n",
        "            x_pred[0, t, char_indices[char]] = 1.0\n",
        "    preds = model.predict(i)[0]\n",
        "    print(preds)\n",
        "    next_index = sample(preds, temperature)\n",
        "    next_char = chars[next_index]\n",
        "    generated_text += next_char\n",
        "  print(\"...Generated: \", generated_text)\n"
      ]
    },
    {
      "cell_type": "code",
      "execution_count": null,
      "metadata": {
        "id": "qN1pq7xQpYVh",
        "colab": {
          "base_uri": "https://localhost:8080/"
        },
        "outputId": "6bed9f7f-960a-4d28-dd23-3a07146b05e2"
      },
      "outputs": [
        {
          "output_type": "stream",
          "name": "stdout",
          "text": [
            "Model: \"sequential\"\n",
            "_________________________________________________________________\n",
            " Layer (type)                Output Shape              Param #   \n",
            "=================================================================\n",
            " lstm (LSTM)                 (None, 128)               99328     \n",
            "                                                                 \n",
            " dense (Dense)               (None, 65)                8385      \n",
            "                                                                 \n",
            "=================================================================\n",
            "Total params: 107,713\n",
            "Trainable params: 107,713\n",
            "Non-trainable params: 0\n",
            "_________________________________________________________________\n"
          ]
        }
      ],
      "source": [
        "model.summary()"
      ]
    }
  ],
  "metadata": {
    "colab": {
      "provenance": [],
      "include_colab_link": true
    },
    "kernelspec": {
      "display_name": "Python 3",
      "name": "python3"
    },
    "language_info": {
      "name": "python"
    }
  },
  "nbformat": 4,
  "nbformat_minor": 0
}