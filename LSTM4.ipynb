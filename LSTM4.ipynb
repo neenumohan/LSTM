{
  "nbformat": 4,
  "nbformat_minor": 0,
  "metadata": {
    "colab": {
      "provenance": [],
      "include_colab_link": true
    },
    "kernelspec": {
      "name": "python3",
      "display_name": "Python 3"
    },
    "language_info": {
      "name": "python"
    }
  },
  "cells": [
    {
      "cell_type": "markdown",
      "metadata": {
        "id": "view-in-github",
        "colab_type": "text"
      },
      "source": [
        "<a href=\"https://colab.research.google.com/github/neenumohan/LSTM/blob/main/LSTM4.ipynb\" target=\"_parent\"><img src=\"https://colab.research.google.com/assets/colab-badge.svg\" alt=\"Open In Colab\"/></a>"
      ]
    },
    {
      "cell_type": "code",
      "execution_count": null,
      "metadata": {
        "id": "w3y-mZ-MiSeD"
      },
      "outputs": [],
      "source": [
        "import numpy as np\n",
        "import tensorflow as tf\n",
        "from tensorflow.keras.models import Sequential\n",
        "from tensorflow.keras.layers import Dense\n",
        "from tensorflow.keras.layers import Dropout\n",
        "from tensorflow.keras.layers import LSTM\n",
        "from tensorflow.keras.callbacks import ModelCheckpoint\n",
        "from tensorflow.keras.utils import to_categorical"
      ]
    },
    {
      "cell_type": "code",
      "source": [
        "filename = \"example.txt\"\n",
        "raw_text1 = open(filename, 'r', encoding='utf-8').read()\n",
        "raw_text = raw_text1.lower()"
      ],
      "metadata": {
        "id": "rA3uY3ddiWsc"
      },
      "execution_count": null,
      "outputs": []
    },
    {
      "cell_type": "code",
      "source": [
        "# create mapping of unique chars to integers\n",
        "chars = sorted(list(set(raw_text)))\n",
        "char_to_int = dict((c, i) for i, c in enumerate(chars))"
      ],
      "metadata": {
        "id": "d_ibZoNGi1MO"
      },
      "execution_count": null,
      "outputs": []
    },
    {
      "cell_type": "code",
      "source": [
        "n_chars = len(raw_text)\n",
        "n_vocab = len(chars)\n",
        "print(\"Total Characters: \", n_chars)\n",
        "print(\"Total Vocab: \", n_vocab)"
      ],
      "metadata": {
        "colab": {
          "base_uri": "https://localhost:8080/"
        },
        "id": "E3mDDqG0jboT",
        "outputId": "bcd73d5f-8d96-48c6-9609-c120d9cc9294"
      },
      "execution_count": null,
      "outputs": [
        {
          "output_type": "stream",
          "name": "stdout",
          "text": [
            "Total Characters:  3234\n",
            "Total Vocab:  34\n"
          ]
        }
      ]
    },
    {
      "cell_type": "code",
      "source": [
        "# prepare the dataset of input to output pairs encoded as integers\n",
        "seq_length = 100\n",
        "dataX = []\n",
        "dataY = []\n",
        "for i in range(0, n_chars - seq_length, 1):\n",
        "\tseq_in = raw_text[i:i + seq_length]\n",
        "\tseq_out = raw_text[i + seq_length]\n",
        "\tdataX.append([char_to_int[char] for char in seq_in])\n",
        "\tdataY.append(char_to_int[seq_out])\n",
        "n_patterns = len(dataX)\n",
        "print(\"Total Patterns: \", n_patterns)"
      ],
      "metadata": {
        "colab": {
          "base_uri": "https://localhost:8080/"
        },
        "id": "F34nQCeijdMt",
        "outputId": "cc854e92-c9f6-4bff-953c-fd2c2fbd02b4"
      },
      "execution_count": null,
      "outputs": [
        {
          "output_type": "stream",
          "name": "stdout",
          "text": [
            "Total Patterns:  3134\n"
          ]
        }
      ]
    },
    {
      "cell_type": "code",
      "source": [
        "# reshape X to be [samples, time steps, features]\n",
        "X = np.reshape(dataX, (n_patterns, seq_length, 1))\n",
        "# normalize\n",
        "X = X / float(n_vocab)\n",
        "# one hot encode the output variable\n",
        "y = to_categorical(dataY)"
      ],
      "metadata": {
        "id": "8guHd3X0j6IO"
      },
      "execution_count": null,
      "outputs": []
    },
    {
      "cell_type": "code",
      "source": [
        "# define the LSTM model\n",
        "model = Sequential()\n",
        "model.add(LSTM(256, input_shape=(X.shape[1], X.shape[2])))\n",
        "model.add(Dropout(0.2))\n",
        "model.add(Dense(y.shape[1], activation='softmax'))\n",
        "model.compile(loss='categorical_crossentropy', optimizer='adam',metrics=['accuracy'])"
      ],
      "metadata": {
        "id": "4809KvuBkhJq"
      },
      "execution_count": null,
      "outputs": []
    },
    {
      "cell_type": "code",
      "source": [
        "# define the checkpoint\n",
        "filepath=\"weights-improvement-{epoch:02d}-{loss:.4f}.hdf5\"\n",
        "checkpoint = ModelCheckpoint(filepath, monitor='loss', verbose=1, save_best_only=True, mode='min')\n",
        "callbacks_list = [checkpoint]"
      ],
      "metadata": {
        "id": "pxhTsm7SkwH3"
      },
      "execution_count": null,
      "outputs": []
    },
    {
      "cell_type": "code",
      "source": [
        "model.fit(X, y, epochs=50, batch_size=128, callbacks=callbacks_list)"
      ],
      "metadata": {
        "id": "Zx7GV6dqk22h"
      },
      "execution_count": null,
      "outputs": []
    },
    {
      "cell_type": "code",
      "source": [
        "model.summary()"
      ],
      "metadata": {
        "colab": {
          "base_uri": "https://localhost:8080/"
        },
        "id": "cW4gWHQ8-ur7",
        "outputId": "b9c93d09-391f-42ac-cd03-b22797069d60"
      },
      "execution_count": null,
      "outputs": [
        {
          "output_type": "stream",
          "name": "stdout",
          "text": [
            "Model: \"sequential\"\n",
            "_________________________________________________________________\n",
            " Layer (type)                Output Shape              Param #   \n",
            "=================================================================\n",
            " lstm (LSTM)                 (None, 256)               264192    \n",
            "                                                                 \n",
            " dropout (Dropout)           (None, 256)               0         \n",
            "                                                                 \n",
            " dense (Dense)               (None, 34)                8738      \n",
            "                                                                 \n",
            "=================================================================\n",
            "Total params: 272,930\n",
            "Trainable params: 272,930\n",
            "Non-trainable params: 0\n",
            "_________________________________________________________________\n"
          ]
        }
      ]
    },
    {
      "cell_type": "code",
      "source": [
        "model.predict(X,verbose=True)"
      ],
      "metadata": {
        "colab": {
          "base_uri": "https://localhost:8080/"
        },
        "id": "Uh_CGqjA-7FO",
        "outputId": "800ef0ba-533f-4325-b991-a58f3487fd2b"
      },
      "execution_count": null,
      "outputs": [
        {
          "output_type": "stream",
          "name": "stdout",
          "text": [
            "98/98 [==============================] - 14s 134ms/step\n"
          ]
        },
        {
          "output_type": "execute_result",
          "data": {
            "text/plain": [
              "array([[4.9926173e-03, 5.8286492e-02, 2.8064733e-03, ..., 5.3254731e-05,\n",
              "        2.8718967e-04, 2.8839894e-04],\n",
              "       [1.3202665e-02, 1.2371696e-01, 3.2675725e-03, ..., 6.5788074e-05,\n",
              "        3.2460777e-04, 2.2619743e-04],\n",
              "       [5.7924567e-03, 1.8961298e-01, 4.7167139e-03, ..., 1.4039486e-04,\n",
              "        5.4470956e-04, 7.5315946e-04],\n",
              "       ...,\n",
              "       [1.5331206e-02, 4.2903572e-01, 1.8333709e-02, ..., 2.6846948e-04,\n",
              "        1.3953992e-04, 2.3708045e-03],\n",
              "       [1.5925454e-02, 5.0640559e-01, 2.0463284e-02, ..., 3.4383120e-04,\n",
              "        5.2360741e-05, 1.6903093e-03],\n",
              "       [2.1261917e-02, 2.7071175e-01, 1.8168757e-02, ..., 7.5670017e-04,\n",
              "        2.7012901e-04, 5.9386888e-03]], dtype=float32)"
            ]
          },
          "metadata": {},
          "execution_count": 11
        }
      ]
    },
    {
      "cell_type": "code",
      "source": [
        "history=model.fit(X, y, epochs=50, batch_size=128, callbacks=callbacks_list).history"
      ],
      "metadata": {
        "colab": {
          "base_uri": "https://localhost:8080/"
        },
        "id": "7XdJ8kO1Sq9c",
        "outputId": "12180b3d-bc96-4f85-af0e-3a2f2b62df5f"
      },
      "execution_count": null,
      "outputs": [
        {
          "output_type": "stream",
          "name": "stdout",
          "text": [
            "Epoch 1/50\n",
            "25/25 [==============================] - ETA: 0s - loss: 3.1541 - accuracy: 0.1509\n",
            "Epoch 1: loss did not improve from 0.42308\n",
            "25/25 [==============================] - 23s 751ms/step - loss: 3.1541 - accuracy: 0.1509\n",
            "Epoch 2/50\n",
            "25/25 [==============================] - ETA: 0s - loss: 3.0007 - accuracy: 0.1659\n",
            "Epoch 2: loss did not improve from 0.42308\n",
            "25/25 [==============================] - 18s 706ms/step - loss: 3.0007 - accuracy: 0.1659\n",
            "Epoch 3/50\n",
            "25/25 [==============================] - ETA: 0s - loss: 2.9881 - accuracy: 0.1691\n",
            "Epoch 3: loss did not improve from 0.42308\n",
            "25/25 [==============================] - 20s 760ms/step - loss: 2.9881 - accuracy: 0.1691\n",
            "Epoch 4/50\n",
            "25/25 [==============================] - ETA: 0s - loss: 2.9907 - accuracy: 0.1710\n",
            "Epoch 4: loss did not improve from 0.42308\n",
            "25/25 [==============================] - 18s 726ms/step - loss: 2.9907 - accuracy: 0.1710\n",
            "Epoch 5/50\n",
            "25/25 [==============================] - ETA: 0s - loss: 2.9893 - accuracy: 0.1691\n",
            "Epoch 5: loss did not improve from 0.42308\n",
            "25/25 [==============================] - 20s 802ms/step - loss: 2.9893 - accuracy: 0.1691\n",
            "Epoch 6/50\n",
            "25/25 [==============================] - ETA: 0s - loss: 2.9855 - accuracy: 0.1701\n",
            "Epoch 6: loss did not improve from 0.42308\n",
            "25/25 [==============================] - 19s 751ms/step - loss: 2.9855 - accuracy: 0.1701\n",
            "Epoch 7/50\n",
            "25/25 [==============================] - ETA: 0s - loss: 2.9868 - accuracy: 0.1707\n",
            "Epoch 7: loss did not improve from 0.42308\n",
            "25/25 [==============================] - 19s 768ms/step - loss: 2.9868 - accuracy: 0.1707\n",
            "Epoch 8/50\n",
            "25/25 [==============================] - ETA: 0s - loss: 2.9857 - accuracy: 0.1704\n",
            "Epoch 8: loss did not improve from 0.42308\n",
            "25/25 [==============================] - 18s 708ms/step - loss: 2.9857 - accuracy: 0.1704\n",
            "Epoch 9/50\n",
            "25/25 [==============================] - ETA: 0s - loss: 2.9816 - accuracy: 0.1710\n",
            "Epoch 9: loss did not improve from 0.42308\n",
            "25/25 [==============================] - 19s 743ms/step - loss: 2.9816 - accuracy: 0.1710\n",
            "Epoch 10/50\n",
            "25/25 [==============================] - ETA: 0s - loss: 2.9853 - accuracy: 0.1707\n",
            "Epoch 10: loss did not improve from 0.42308\n",
            "25/25 [==============================] - 18s 720ms/step - loss: 2.9853 - accuracy: 0.1707\n",
            "Epoch 11/50\n",
            "25/25 [==============================] - ETA: 0s - loss: 2.9814 - accuracy: 0.1710\n",
            "Epoch 11: loss did not improve from 0.42308\n",
            "25/25 [==============================] - 17s 690ms/step - loss: 2.9814 - accuracy: 0.1710\n",
            "Epoch 12/50\n",
            "25/25 [==============================] - ETA: 0s - loss: 2.9828 - accuracy: 0.1713\n",
            "Epoch 12: loss did not improve from 0.42308\n",
            "25/25 [==============================] - 20s 792ms/step - loss: 2.9828 - accuracy: 0.1713\n",
            "Epoch 13/50\n",
            "25/25 [==============================] - ETA: 0s - loss: 2.9778 - accuracy: 0.1707\n",
            "Epoch 13: loss did not improve from 0.42308\n",
            "25/25 [==============================] - 17s 693ms/step - loss: 2.9778 - accuracy: 0.1707\n",
            "Epoch 14/50\n",
            "25/25 [==============================] - ETA: 0s - loss: 2.9777 - accuracy: 0.1710\n",
            "Epoch 14: loss did not improve from 0.42308\n",
            "25/25 [==============================] - 20s 790ms/step - loss: 2.9777 - accuracy: 0.1710\n",
            "Epoch 15/50\n",
            "25/25 [==============================] - ETA: 0s - loss: 2.9785 - accuracy: 0.1713\n",
            "Epoch 15: loss did not improve from 0.42308\n",
            "25/25 [==============================] - 18s 715ms/step - loss: 2.9785 - accuracy: 0.1713\n",
            "Epoch 16/50\n",
            "25/25 [==============================] - ETA: 0s - loss: 2.9727 - accuracy: 0.1710\n",
            "Epoch 16: loss did not improve from 0.42308\n",
            "25/25 [==============================] - 18s 737ms/step - loss: 2.9727 - accuracy: 0.1710\n",
            "Epoch 17/50\n",
            "25/25 [==============================] - ETA: 0s - loss: 2.9728 - accuracy: 0.1710\n",
            "Epoch 17: loss did not improve from 0.42308\n",
            "25/25 [==============================] - 19s 732ms/step - loss: 2.9728 - accuracy: 0.1710\n",
            "Epoch 18/50\n",
            "25/25 [==============================] - ETA: 0s - loss: 2.9688 - accuracy: 0.1710\n",
            "Epoch 18: loss did not improve from 0.42308\n",
            "25/25 [==============================] - 18s 710ms/step - loss: 2.9688 - accuracy: 0.1710\n",
            "Epoch 19/50\n",
            "25/25 [==============================] - ETA: 0s - loss: 2.9709 - accuracy: 0.1710\n",
            "Epoch 19: loss did not improve from 0.42308\n",
            "25/25 [==============================] - 20s 806ms/step - loss: 2.9709 - accuracy: 0.1710\n",
            "Epoch 20/50\n",
            "25/25 [==============================] - ETA: 0s - loss: 2.9693 - accuracy: 0.1710\n",
            "Epoch 20: loss did not improve from 0.42308\n",
            "25/25 [==============================] - 19s 740ms/step - loss: 2.9693 - accuracy: 0.1710\n",
            "Epoch 21/50\n",
            "25/25 [==============================] - ETA: 0s - loss: 2.9631 - accuracy: 0.1707\n",
            "Epoch 21: loss did not improve from 0.42308\n",
            "25/25 [==============================] - 19s 781ms/step - loss: 2.9631 - accuracy: 0.1707\n",
            "Epoch 22/50\n",
            "25/25 [==============================] - ETA: 0s - loss: 2.9626 - accuracy: 0.1710\n",
            "Epoch 22: loss did not improve from 0.42308\n",
            "25/25 [==============================] - 19s 732ms/step - loss: 2.9626 - accuracy: 0.1710\n",
            "Epoch 23/50\n",
            "25/25 [==============================] - ETA: 0s - loss: 2.9583 - accuracy: 0.1713\n",
            "Epoch 23: loss did not improve from 0.42308\n",
            "25/25 [==============================] - 18s 728ms/step - loss: 2.9583 - accuracy: 0.1713\n",
            "Epoch 24/50\n",
            "25/25 [==============================] - ETA: 0s - loss: 2.9538 - accuracy: 0.1726\n",
            "Epoch 24: loss did not improve from 0.42308\n",
            "25/25 [==============================] - 20s 766ms/step - loss: 2.9538 - accuracy: 0.1726\n",
            "Epoch 25/50\n",
            "25/25 [==============================] - ETA: 0s - loss: 2.9461 - accuracy: 0.1713\n",
            "Epoch 25: loss did not improve from 0.42308\n",
            "25/25 [==============================] - 18s 721ms/step - loss: 2.9461 - accuracy: 0.1713\n",
            "Epoch 26/50\n",
            "25/25 [==============================] - ETA: 0s - loss: 2.9393 - accuracy: 0.1755\n",
            "Epoch 26: loss did not improve from 0.42308\n",
            "25/25 [==============================] - 19s 747ms/step - loss: 2.9393 - accuracy: 0.1755\n",
            "Epoch 27/50\n",
            "25/25 [==============================] - ETA: 0s - loss: 2.9315 - accuracy: 0.1749\n",
            "Epoch 27: loss did not improve from 0.42308\n",
            "25/25 [==============================] - 19s 773ms/step - loss: 2.9315 - accuracy: 0.1749\n",
            "Epoch 28/50\n",
            "25/25 [==============================] - ETA: 0s - loss: 2.9189 - accuracy: 0.1790\n",
            "Epoch 28: loss did not improve from 0.42308\n",
            "25/25 [==============================] - 19s 754ms/step - loss: 2.9189 - accuracy: 0.1790\n",
            "Epoch 29/50\n",
            "25/25 [==============================] - ETA: 0s - loss: 2.9174 - accuracy: 0.1749\n",
            "Epoch 29: loss did not improve from 0.42308\n",
            "25/25 [==============================] - 19s 743ms/step - loss: 2.9174 - accuracy: 0.1749\n",
            "Epoch 30/50\n",
            "25/25 [==============================] - ETA: 0s - loss: 2.9081 - accuracy: 0.1742\n",
            "Epoch 30: loss did not improve from 0.42308\n",
            "25/25 [==============================] - 18s 713ms/step - loss: 2.9081 - accuracy: 0.1742\n",
            "Epoch 31/50\n",
            "25/25 [==============================] - ETA: 0s - loss: 2.8992 - accuracy: 0.1895\n",
            "Epoch 31: loss did not improve from 0.42308\n",
            "25/25 [==============================] - 20s 803ms/step - loss: 2.8992 - accuracy: 0.1895\n",
            "Epoch 32/50\n",
            "25/25 [==============================] - ETA: 0s - loss: 2.8958 - accuracy: 0.1847\n",
            "Epoch 32: loss did not improve from 0.42308\n",
            "25/25 [==============================] - 19s 757ms/step - loss: 2.8958 - accuracy: 0.1847\n",
            "Epoch 33/50\n",
            "25/25 [==============================] - ETA: 0s - loss: 2.8846 - accuracy: 0.1905\n",
            "Epoch 33: loss did not improve from 0.42308\n",
            "25/25 [==============================] - 19s 766ms/step - loss: 2.8846 - accuracy: 0.1905\n",
            "Epoch 34/50\n",
            "25/25 [==============================] - ETA: 0s - loss: 2.8803 - accuracy: 0.1895\n",
            "Epoch 34: loss did not improve from 0.42308\n",
            "25/25 [==============================] - 19s 762ms/step - loss: 2.8803 - accuracy: 0.1895\n",
            "Epoch 35/50\n",
            "25/25 [==============================] - ETA: 0s - loss: 2.8742 - accuracy: 0.1911\n",
            "Epoch 35: loss did not improve from 0.42308\n",
            "25/25 [==============================] - 19s 751ms/step - loss: 2.8742 - accuracy: 0.1911\n",
            "Epoch 36/50\n",
            "25/25 [==============================] - ETA: 0s - loss: 2.8670 - accuracy: 0.1962\n",
            "Epoch 36: loss did not improve from 0.42308\n",
            "25/25 [==============================] - 18s 742ms/step - loss: 2.8670 - accuracy: 0.1962\n",
            "Epoch 37/50\n",
            "25/25 [==============================] - ETA: 0s - loss: 2.8602 - accuracy: 0.1934\n",
            "Epoch 37: loss did not improve from 0.42308\n",
            "25/25 [==============================] - 19s 763ms/step - loss: 2.8602 - accuracy: 0.1934\n",
            "Epoch 38/50\n",
            "25/25 [==============================] - ETA: 0s - loss: 2.8637 - accuracy: 0.2010\n",
            "Epoch 38: loss did not improve from 0.42308\n",
            "25/25 [==============================] - 18s 718ms/step - loss: 2.8637 - accuracy: 0.2010\n",
            "Epoch 39/50\n",
            "25/25 [==============================] - ETA: 0s - loss: 2.8507 - accuracy: 0.2007\n",
            "Epoch 39: loss did not improve from 0.42308\n",
            "25/25 [==============================] - 18s 725ms/step - loss: 2.8507 - accuracy: 0.2007\n",
            "Epoch 40/50\n",
            "25/25 [==============================] - ETA: 0s - loss: 2.8460 - accuracy: 0.2004\n",
            "Epoch 40: loss did not improve from 0.42308\n",
            "25/25 [==============================] - 19s 762ms/step - loss: 2.8460 - accuracy: 0.2004\n",
            "Epoch 41/50\n",
            "25/25 [==============================] - ETA: 0s - loss: 2.8380 - accuracy: 0.1975\n",
            "Epoch 41: loss did not improve from 0.42308\n",
            "25/25 [==============================] - 18s 743ms/step - loss: 2.8380 - accuracy: 0.1975\n",
            "Epoch 42/50\n",
            "25/25 [==============================] - ETA: 0s - loss: 2.8250 - accuracy: 0.1972\n",
            "Epoch 42: loss did not improve from 0.42308\n",
            "25/25 [==============================] - 19s 772ms/step - loss: 2.8250 - accuracy: 0.1972\n",
            "Epoch 43/50\n",
            "25/25 [==============================] - ETA: 0s - loss: 2.8237 - accuracy: 0.2007\n",
            "Epoch 43: loss did not improve from 0.42308\n",
            "25/25 [==============================] - 17s 699ms/step - loss: 2.8237 - accuracy: 0.2007\n",
            "Epoch 44/50\n",
            "25/25 [==============================] - ETA: 0s - loss: 2.8105 - accuracy: 0.1981\n",
            "Epoch 44: loss did not improve from 0.42308\n",
            "25/25 [==============================] - 18s 721ms/step - loss: 2.8105 - accuracy: 0.1981\n",
            "Epoch 45/50\n",
            "25/25 [==============================] - ETA: 0s - loss: 2.7937 - accuracy: 0.2112\n",
            "Epoch 45: loss did not improve from 0.42308\n",
            "25/25 [==============================] - 18s 715ms/step - loss: 2.7937 - accuracy: 0.2112\n",
            "Epoch 46/50\n",
            "25/25 [==============================] - ETA: 0s - loss: 2.7910 - accuracy: 0.2029\n",
            "Epoch 46: loss did not improve from 0.42308\n",
            "25/25 [==============================] - 18s 735ms/step - loss: 2.7910 - accuracy: 0.2029\n",
            "Epoch 47/50\n",
            "25/25 [==============================] - ETA: 0s - loss: 2.7692 - accuracy: 0.2240\n",
            "Epoch 47: loss did not improve from 0.42308\n",
            "25/25 [==============================] - 20s 795ms/step - loss: 2.7692 - accuracy: 0.2240\n",
            "Epoch 48/50\n",
            "25/25 [==============================] - ETA: 0s - loss: 2.7563 - accuracy: 0.2173\n",
            "Epoch 48: loss did not improve from 0.42308\n",
            "25/25 [==============================] - 18s 715ms/step - loss: 2.7563 - accuracy: 0.2173\n",
            "Epoch 49/50\n",
            "25/25 [==============================] - ETA: 0s - loss: 2.7342 - accuracy: 0.2128\n",
            "Epoch 49: loss did not improve from 0.42308\n",
            "25/25 [==============================] - 17s 686ms/step - loss: 2.7342 - accuracy: 0.2128\n",
            "Epoch 50/50\n",
            "25/25 [==============================] - ETA: 0s - loss: 2.7300 - accuracy: 0.2173\n",
            "Epoch 50: loss did not improve from 0.42308\n",
            "25/25 [==============================] - 18s 723ms/step - loss: 2.7300 - accuracy: 0.2173\n"
          ]
        }
      ]
    },
    {
      "cell_type": "code",
      "source": [
        "model.save('next_word_model.h5')"
      ],
      "metadata": {
        "id": "89GBoB1yQVfY"
      },
      "execution_count": null,
      "outputs": []
    },
    {
      "cell_type": "code",
      "source": [
        "import pickle\n",
        "pickle.dump(history, open(\"history.p\", \"wb\"))"
      ],
      "metadata": {
        "id": "_JPY5Y_WSQ5W"
      },
      "execution_count": null,
      "outputs": []
    },
    {
      "cell_type": "code",
      "source": [
        "from keras import models\n",
        "from keras.models import load_model\n",
        "model = load_model('next_word_model.h5')\n",
        "history = pickle.load(open(\"history.p\", \"rb\"))"
      ],
      "metadata": {
        "id": "1xEEBWO-SZMz"
      },
      "execution_count": null,
      "outputs": []
    },
    {
      "cell_type": "code",
      "source": [
        "import matplotlib.pyplot as plt"
      ],
      "metadata": {
        "id": "_z2vyqUoW6ox"
      },
      "execution_count": null,
      "outputs": []
    },
    {
      "cell_type": "code",
      "source": [
        "print(history.keys())"
      ],
      "metadata": {
        "colab": {
          "base_uri": "https://localhost:8080/"
        },
        "id": "8r1LbUHlcynF",
        "outputId": "8c193081-195c-4c00-e712-6bfc75f97855"
      },
      "execution_count": null,
      "outputs": [
        {
          "output_type": "stream",
          "name": "stdout",
          "text": [
            "dict_keys(['loss', 'accuracy'])\n"
          ]
        }
      ]
    },
    {
      "cell_type": "code",
      "source": [
        "plt.plot(history['accuracy'])\n",
        "#plt.plot(history['val_acc'])\n",
        "plt.title('model accuracy')\n",
        "plt.ylabel('accuracy')\n",
        "plt.xlabel('epoch')\n",
        "plt.legend(['train', 'test'], loc='upper left')"
      ],
      "metadata": {
        "colab": {
          "base_uri": "https://localhost:8080/",
          "height": 489
        },
        "id": "Wy-SuragWxHO",
        "outputId": "9f14e652-6d1b-4021-94ea-a07b6b2cce7d"
      },
      "execution_count": null,
      "outputs": [
        {
          "output_type": "execute_result",
          "data": {
            "text/plain": [
              "<matplotlib.legend.Legend at 0x7f6b32476d10>"
            ]
          },
          "metadata": {},
          "execution_count": 43
        },
        {
          "output_type": "display_data",
          "data": {
            "text/plain": [
              "<Figure size 640x480 with 1 Axes>"
            ],
            "image/png": "[encoded data removed]"
          },
          "metadata": {}
        }
      ]
    },
    {
      "cell_type": "code",
      "source": [
        "plt.plot(history['loss'])\n",
        "#plt.plot(history['val_loss'])\n",
        "plt.title('model loss')\n",
        "plt.ylabel('loss')\n",
        "plt.xlabel('epoch')\n",
        "plt.legend(['train', 'test'], loc='upper left')"
      ],
      "metadata": {
        "colab": {
          "base_uri": "https://localhost:8080/",
          "height": 489
        },
        "id": "5PzyG-lpcgfm",
        "outputId": "1e476abe-68e7-48d0-e055-da6d50b7c8b0"
      },
      "execution_count": null,
      "outputs": [
        {
          "output_type": "execute_result",
          "data": {
            "text/plain": [
              "<matplotlib.legend.Legend at 0x7f6b32453d90>"
            ]
          },
          "metadata": {},
          "execution_count": 44
        },
        {
          "output_type": "display_data",
          "data": {
            "text/plain": [
              "<Figure size 640x480 with 1 Axes>"
            ],
            "image/png": "[encoded data removed]"
          },
          "metadata": {}
        }
      ]
    }
  ]
}