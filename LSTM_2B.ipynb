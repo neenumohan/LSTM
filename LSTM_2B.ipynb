{
  "cells": [
    {
      "cell_type": "markdown",
      "metadata": {
        "id": "view-in-github",
        "colab_type": "text"
      },
      "source": [
        "<a href=\"https://colab.research.google.com/github/neenumohan/LSTM/blob/main/LSTM_2B.ipynb\" target=\"_parent\"><img src=\"https://colab.research.google.com/assets/colab-badge.svg\" alt=\"Open In Colab\"/></a>"
      ]
    },
    {
      "cell_type": "code",
      "source": [
        "import numpy as np\n",
        "import tensorflow as tf\n",
        "import nltk\n",
        "from nltk.tokenize import sent_tokenize, word_tokenize\n",
        "#Step-1: Define and Process the Corpus\n",
        "nltk.download('punkt')\n",
        "corpus = 'jana gana mana adinayaka jayahee '\n",
        "chars = list(corpus) #['J', 'a', 'n', 'a', ' ', 'G', 'a', 'n', 'a',..]\n",
        "charCode = {char: i for i, char in enumerate(chars)} #{'J': 0, 'a': 28, 'n': 18, ' ': 24,..}\n",
        "print(charCode)"
      ],
      "metadata": {
        "id": "LHQPYhT50Ef2",
        "colab": {
          "base_uri": "https://localhost:8080/"
        },
        "outputId": "85cbd400-d377-4f16-8eb7-88ec319c400a"
      },
      "execution_count": null,
      "outputs": [
        {
          "output_type": "stream",
          "name": "stderr",
          "text": [
            "[nltk_data] Downloading package punkt to /root/nltk_data...\n",
            "[nltk_data]   Unzipping tokenizers/punkt.zip.\n"
          ]
        },
        {
          "output_type": "stream",
          "name": "stdout",
          "text": [
            "{'j': 25, 'a': 28, 'n': 18, ' ': 32, 'g': 5, 'm': 10, 'd': 16, 'i': 17, 'y': 27, 'k': 22, 'h': 29, 'e': 31}\n"
          ]
        }
      ]
    },
    {
      "cell_type": "code",
      "source": [
        "'A'"
      ],
      "metadata": {
        "id": "Gx7rE30U6-e-"
      },
      "execution_count": null,
      "outputs": []
    },
    {
      "cell_type": "code",
      "source": [
        "# Step-2: Produce training data from corpus, we had considered the dataset of length 4\n",
        "x1 = []; y1 = []\n",
        "for i in range(0, len(corpus) - 4):\n",
        "    a = corpus[i:i + 4]\n",
        "    # print(a)\n",
        "    b = corpus[i + 4]\n",
        "    # print(b)\n",
        "    x1.append([charCode[i] for i in a])\n",
        "    y1.append(charCode[b])\n",
        "    # print(x1)\n",
        "    # print(y1)\n",
        "x = np.array(x1);y = np.array(y1) # convert to np arrays\n",
        "# print(x1)\n",
        "# print(y1)\n",
        "# print(x)\n",
        "# print(y)\n",
        "#Step-3: Define the training model\n",
        "#<TO DO to convert to usual style>\n",
        "model = tf.keras.Sequential([\n",
        "    tf.keras.layers.Embedding(len(chars), 256, input_length=4),\n",
        "    tf.keras.layers.LSTM(256),\n",
        "    tf.keras.layers.Dense(len(chars), activation='softmax')])\n",
        "model.compile(loss='sparse_categorical_crossentropy', optimizer='adam')\n",
        "model.fit(x, y, batch_size=128, epochs=500)"
      ],
      "metadata": {
        "id": "h0o3OBV-31eZ"
      },
      "execution_count": null,
      "outputs": []
    },
    {
      "cell_type": "code",
      "source": [
        "model.save(\"my_model.h5\")"
      ],
      "metadata": {
        "id": "EcJOL10vI85z"
      },
      "execution_count": null,
      "outputs": []
    },
    {
      "cell_type": "code",
      "source": [
        "#Step6 : Predicting from single word\n",
        "seed=' man'\n",
        "# print(charCode)\n",
        "# print(char)\n",
        "x = np.array([charCode[char] for char in seed[-4:]])\n",
        "x = np.reshape(x, (1, 4))\n",
        "print(x)\n",
        "model.predict(x)\n",
        "out= np.argmax([i for i in model.predict(x)])\n",
        "print(\"character:\",list(charCode.keys())[list(charCode.values()).index(out)])"
      ],
      "metadata": {
        "colab": {
          "base_uri": "https://localhost:8080/"
        },
        "id": "Od5hbyNQb8DH",
        "outputId": "95bab801-d60d-415a-c1e7-65f77ddd812e"
      },
      "execution_count": null,
      "outputs": [
        {
          "output_type": "stream",
          "name": "stdout",
          "text": [
            "[[32 10 28 18]]\n",
            "1/1 [==============================] - 0s 23ms/step\n",
            "1/1 [==============================] - 0s 23ms/step\n",
            "character: a\n"
          ]
        }
      ]
    },
    {
      "cell_type": "code",
      "source": [
        "#step 7: predicting from sentence\n",
        "for i in range(0, len(corpus) - 4):\n",
        "    seed = corpus[i:i + 4]\n",
        "    print(seed)\n",
        "    x = np.array([charCode[char] for char in seed[-4:]])\n",
        "    x = np.reshape(x, (1, 4))\n",
        "    model.predict(x)\n",
        "    out= np.argmax([i for i in model.predict(x)])\n",
        "    print(\"character:\",list(charCode.keys())[list(charCode.values()).index(out)])"
      ],
      "metadata": {
        "colab": {
          "base_uri": "https://localhost:8080/"
        },
        "id": "thbB7XMfpSMd",
        "outputId": "1759d56d-3a10-4814-a61f-4cbcc7276043"
      },
      "execution_count": null,
      "outputs": [
        {
          "output_type": "stream",
          "name": "stdout",
          "text": [
            "jana\n",
            "1/1 [==============================] - 0s 39ms/step\n",
            "1/1 [==============================] - 0s 50ms/step\n",
            "character:  \n",
            "ana \n",
            "1/1 [==============================] - 0s 44ms/step\n",
            "1/1 [==============================] - 0s 35ms/step\n",
            "character: a\n",
            "na g\n",
            "1/1 [==============================] - 0s 35ms/step\n",
            "1/1 [==============================] - 0s 62ms/step\n",
            "character: a\n",
            "a ga\n",
            "1/1 [==============================] - 0s 37ms/step\n",
            "1/1 [==============================] - 0s 35ms/step\n",
            "character: n\n",
            " gan\n",
            "1/1 [==============================] - 0s 49ms/step\n",
            "1/1 [==============================] - 0s 103ms/step\n",
            "character: a\n",
            "gana\n",
            "1/1 [==============================] - 0s 34ms/step\n",
            "1/1 [==============================] - 0s 22ms/step\n",
            "character:  \n",
            "ana \n",
            "1/1 [==============================] - 0s 26ms/step\n",
            "1/1 [==============================] - 0s 29ms/step\n",
            "character: a\n",
            "na m\n",
            "1/1 [==============================] - 0s 24ms/step\n",
            "1/1 [==============================] - 0s 24ms/step\n",
            "character: a\n",
            "a ma\n",
            "1/1 [==============================] - 0s 25ms/step\n",
            "1/1 [==============================] - 0s 29ms/step\n",
            "character: n\n",
            " man\n",
            "1/1 [==============================] - 0s 23ms/step\n",
            "1/1 [==============================] - 0s 26ms/step\n",
            "character: a\n",
            "mana\n",
            "1/1 [==============================] - 0s 22ms/step\n",
            "1/1 [==============================] - 0s 23ms/step\n",
            "character:  \n",
            "ana \n",
            "1/1 [==============================] - 0s 32ms/step\n",
            "1/1 [==============================] - 0s 25ms/step\n",
            "character: a\n",
            "na a\n",
            "1/1 [==============================] - 0s 28ms/step\n",
            "1/1 [==============================] - 0s 27ms/step\n",
            "character: d\n",
            "a ad\n",
            "1/1 [==============================] - 0s 23ms/step\n",
            "1/1 [==============================] - 0s 25ms/step\n",
            "character: i\n",
            " adi\n",
            "1/1 [==============================] - 0s 23ms/step\n",
            "1/1 [==============================] - 0s 25ms/step\n",
            "character: n\n",
            "adin\n",
            "1/1 [==============================] - 0s 26ms/step\n",
            "1/1 [==============================] - 0s 28ms/step\n",
            "character: a\n",
            "dina\n",
            "1/1 [==============================] - 0s 24ms/step\n",
            "1/1 [==============================] - 0s 23ms/step\n",
            "character: y\n",
            "inay\n",
            "1/1 [==============================] - 0s 27ms/step\n",
            "1/1 [==============================] - 0s 23ms/step\n",
            "character: a\n",
            "naya\n",
            "1/1 [==============================] - 0s 25ms/step\n",
            "1/1 [==============================] - 0s 22ms/step\n",
            "character: k\n",
            "ayak\n",
            "1/1 [==============================] - 0s 25ms/step\n",
            "1/1 [==============================] - 0s 22ms/step\n",
            "character: a\n",
            "yaka\n",
            "1/1 [==============================] - 0s 34ms/step\n",
            "1/1 [==============================] - 0s 24ms/step\n",
            "character:  \n",
            "aka \n",
            "1/1 [==============================] - 0s 33ms/step\n",
            "1/1 [==============================] - 0s 24ms/step\n",
            "character: j\n",
            "ka j\n",
            "1/1 [==============================] - 0s 26ms/step\n",
            "1/1 [==============================] - 0s 24ms/step\n",
            "character: a\n",
            "a ja\n",
            "1/1 [==============================] - 0s 28ms/step\n",
            "1/1 [==============================] - 0s 26ms/step\n",
            "character: y\n",
            " jay\n",
            "1/1 [==============================] - 0s 26ms/step\n",
            "1/1 [==============================] - 0s 26ms/step\n",
            "character: a\n",
            "jaya\n",
            "1/1 [==============================] - 0s 30ms/step\n",
            "1/1 [==============================] - 0s 24ms/step\n",
            "character: h\n",
            "ayah\n",
            "1/1 [==============================] - 0s 23ms/step\n",
            "1/1 [==============================] - 0s 22ms/step\n",
            "character: e\n",
            "yahe\n",
            "1/1 [==============================] - 0s 25ms/step\n",
            "1/1 [==============================] - 0s 25ms/step\n",
            "character: e\n",
            "ahee\n",
            "1/1 [==============================] - 0s 28ms/step\n",
            "1/1 [==============================] - 0s 27ms/step\n",
            "character:  \n"
          ]
        }
      ]
    },
    {
      "cell_type": "markdown",
      "source": [],
      "metadata": {
        "id": "mThgx4dq1Dek"
      }
    }
  ],
  "metadata": {
    "colab": {
      "provenance": [],
      "include_colab_link": true
    },
    "kernelspec": {
      "display_name": "Python 3",
      "name": "python3"
    },
    "language_info": {
      "name": "python"
    }
  },
  "nbformat": 4,
  "nbformat_minor": 0
}